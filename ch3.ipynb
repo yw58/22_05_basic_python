{
  "nbformat": 4,
  "nbformat_minor": 0,
  "metadata": {
    "colab": {
      "provenance": [],
      "authorship_tag": "ABX9TyP1o3rK968zl6cKG6WLFPdj",
      "include_colab_link": true
    },
    "kernelspec": {
      "name": "python3",
      "display_name": "Python 3"
    },
    "language_info": {
      "name": "python"
    }
  },
  "cells": [
    {
      "cell_type": "markdown",
      "metadata": {
        "id": "view-in-github",
        "colab_type": "text"
      },
      "source": [
        "<a href=\"https://colab.research.google.com/github/yw58/22_05_basic_python/blob/main/ch3.ipynb\" target=\"_parent\"><img src=\"https://colab.research.google.com/assets/colab-badge.svg\" alt=\"Open In Colab\"/></a>"
      ]
    },
    {
      "cell_type": "code",
      "execution_count": 1,
      "metadata": {
        "colab": {
          "base_uri": "https://localhost:8080/"
        },
        "id": "iolgfy4VKIjd",
        "outputId": "74de3d41-00e5-4f30-d407-ba88d1bfe96b"
      },
      "outputs": [
        {
          "output_type": "stream",
          "name": "stdout",
          "text": [
            "x= 10\n",
            "x 3.14\n",
            "x= hello world!\n"
          ]
        }
      ],
      "source": [
        "x=10\n",
        "print(\"x=\",x)\n",
        "x=3.14\n",
        "print(\"x\",x)\n",
        "x=\"hello world!\"\n",
        "print(\"x=\",x)"
      ]
    },
    {
      "cell_type": "code",
      "source": [
        "x=input(\"정수를 입력하시오:\")\n",
        "y=input(\"정수를 입력하시오:\")\n",
        "print(x+y)\n"
      ],
      "metadata": {
        "colab": {
          "base_uri": "https://localhost:8080/"
        },
        "id": "WhWIENRFOdcL",
        "outputId": "dd59c5f3-1b8e-4451-98f5-a29bbd114c53"
      },
      "execution_count": 2,
      "outputs": [
        {
          "output_type": "stream",
          "name": "stdout",
          "text": [
            "정수를 입력하시오:100\n",
            "정수를 입력하시오:200\n",
            "100200\n"
          ]
        }
      ]
    },
    {
      "cell_type": "code",
      "source": [
        "x=int(input(\"정수를 입력하시오:\"))\n",
        "y=int(input(\"정수를 입력하시오:\"))\n",
        "print(x+y)"
      ],
      "metadata": {
        "colab": {
          "base_uri": "https://localhost:8080/"
        },
        "id": "f1DoWWJXTgMW",
        "outputId": "8530d5f8-1aad-48ba-b88a-c96125e4e32b"
      },
      "execution_count": 3,
      "outputs": [
        {
          "output_type": "stream",
          "name": "stdout",
          "text": [
            "정수를 입력하시오:100\n",
            "정수를 입력하시오:200\n",
            "300\n"
          ]
        }
      ]
    },
    {
      "cell_type": "code",
      "source": [
        "t=input(\"정수를 입력하시오:\")\n",
        "x=int(t)\n",
        "\n",
        "t=input(\"정수를 입력하시오:\")\n",
        "y=int(t)\n",
        "\n",
        "print(x+y)"
      ],
      "metadata": {
        "colab": {
          "base_uri": "https://localhost:8080/"
        },
        "id": "eXMVx4fEVNep",
        "outputId": "4706e291-6094-4084-e83f-5113867dda43"
      },
      "execution_count": 4,
      "outputs": [
        {
          "output_type": "stream",
          "name": "stdout",
          "text": [
            "정수를 입력하시오:100\n",
            "정수를 입력하시오:200\n",
            "300\n"
          ]
        }
      ]
    }
  ]
}