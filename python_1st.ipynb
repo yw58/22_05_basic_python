{
  "nbformat": 4,
  "nbformat_minor": 0,
  "metadata": {
    "colab": {
      "provenance": [],
      "authorship_tag": "ABX9TyOWuSVibkBG5OtLcuwK5JTd",
      "include_colab_link": true
    },
    "kernelspec": {
      "name": "python3",
      "display_name": "Python 3"
    },
    "language_info": {
      "name": "python"
    }
  },
  "cells": [
    {
      "cell_type": "markdown",
      "metadata": {
        "id": "view-in-github",
        "colab_type": "text"
      },
      "source": [
        "<a href=\"https://colab.research.google.com/github/yw58/22_05_basic_python/blob/main/python_1st.ipynb\" target=\"_parent\"><img src=\"https://colab.research.google.com/assets/colab-badge.svg\" alt=\"Open In Colab\"/></a>"
      ]
    },
    {
      "cell_type": "markdown",
      "source": [
        "1.안녕하세요를 화면에 출력해보자"
      ],
      "metadata": {
        "id": "qHP9oHC6ZH0R"
      }
    },
    {
      "cell_type": "code",
      "source": [
        "print(\"안녕하세요\")"
      ],
      "metadata": {
        "colab": {
          "base_uri": "https://localhost:8080/"
        },
        "id": "G7nGJ8YHZfXw",
        "outputId": "2f0710bc-a1ac-4531-e193-740476dc6201"
      },
      "execution_count": 1,
      "outputs": [
        {
          "output_type": "stream",
          "name": "stdout",
          "text": [
            "안녕하세요\n"
          ]
        }
      ]
    },
    {
      "cell_type": "markdown",
      "source": [
        "2.programming에 입문하신것을 축하드립니다.를 출력하시오"
      ],
      "metadata": {
        "id": "_ukkAcsfZ_0L"
      }
    },
    {
      "cell_type": "code",
      "source": [
        "print(\".programming에 입문하신것을 축하드립니다.\")"
      ],
      "metadata": {
        "colab": {
          "base_uri": "https://localhost:8080/"
        },
        "id": "dPaJkeGAaVuQ",
        "outputId": "01de478a-af0f-4a2b-e272-b316b758f940"
      },
      "execution_count": 2,
      "outputs": [
        {
          "output_type": "stream",
          "name": "stdout",
          "text": [
            ".programming에 입문하신것을 축하드립니다.\n"
          ]
        }
      ]
    }
  ]
}